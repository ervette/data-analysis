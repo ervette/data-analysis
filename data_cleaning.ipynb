{
 "cells": [
  {
   "cell_type": "code",
   "execution_count": 11,
   "metadata": {},
   "outputs": [],
   "source": [
    "import pandas as pd\n",
    "\n",
    "# Read the CSV file\n",
    "df = pd.read_csv('./credit-no-case-no.csv')\n",
    "\n",
    "# Define a function to clean up the 'Job' column\n",
    "def clean_job(job_value):\n",
    "    job_mappings = {\n",
    "        'skilled': 'skilled',\n",
    "        'unskilled resident': 'unskilled resident',\n",
    "        'high qualif/self emp/mgmt': 'highly qualified/self employed/management',\n",
    "        'unemp/unskilled non res': 'unemployed/unskilled non-resident'\n",
    "    }\n",
    "    return job_mappings.get(job_value.strip().lower(), 'unknown')  # Default to 'unknown' if no match\n",
    "\n",
    "# Apply the cleaning function to the 'Job' column\n",
    "df['job'] = df['job'].apply(clean_job)\n",
    "\n",
    "# Save the cleaned DataFrame back to a CSV file\n",
    "df.to_csv('credit-job-fixed.csv', index=False)\n"
   ]
  }
 ],
 "metadata": {
  "kernelspec": {
   "display_name": "Python 3",
   "language": "python",
   "name": "python3"
  },
  "language_info": {
   "codemirror_mode": {
    "name": "ipython",
    "version": 3
   },
   "file_extension": ".py",
   "mimetype": "text/x-python",
   "name": "python",
   "nbconvert_exporter": "python",
   "pygments_lexer": "ipython3",
   "version": "3.11.6"
  },
  "orig_nbformat": 4,
  "vscode": {
   "interpreter": {
    "hash": "b0fa6594d8f4cbf19f97940f81e996739fb7646882a419484c72d19e05852a7e"
   }
  }
 },
 "nbformat": 4,
 "nbformat_minor": 2
}
